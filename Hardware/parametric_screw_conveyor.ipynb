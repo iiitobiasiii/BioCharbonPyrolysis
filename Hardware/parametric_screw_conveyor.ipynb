{
 "cells": [
  {
   "cell_type": "markdown",
   "metadata": {},
   "source": [
    "# Parametric Screw Conveyor\n",
    "\n",
    "main function: move Material from A to B\n",
    "\n",
    "high level design parameters: \n",
    "\n",
    "- mass flow\n",
    "- storage volume\n"
   ]
  },
  {
   "cell_type": "markdown",
   "metadata": {},
   "source": [
    "## Requirements:\n",
    "- easy to maintain\n",
    "- use standardized parts where possible\n",
    "- look for "
   ]
  },
  {
   "cell_type": "code",
   "execution_count": null,
   "metadata": {},
   "outputs": [],
   "source": [
    "# Paramters\n",
    "\n",
    "parameters = {'lenght' : 1, # m \n",
    "              'width'  : 1, # m\n",
    "              'height' : 1, # m\n",
    "            }"
   ]
  },
  {
   "cell_type": "code",
   "execution_count": null,
   "metadata": {},
   "outputs": [],
   "source": [
    "from pathlib import Path\n",
    "data_path = ''"
   ]
  },
  {
   "cell_type": "code",
   "execution_count": 3,
   "metadata": {},
   "outputs": [],
   "source": [
    "# export parameters as .yaml\n",
    "import yaml\n",
    "\n",
    "par_file = Path(data_path + 'par_file.yml')\n",
    "with open(par_file, 'w') as outfile:\n",
    "    yaml.dump(parameters, outfile, default_flow_style=False)"
   ]
  },
  {
   "cell_type": "code",
   "execution_count": 5,
   "metadata": {},
   "outputs": [],
   "source": [
    "# export parameters as .json \n",
    "import json\n",
    "\n",
    "par_file = Path(data_path + 'par_file.json')\n",
    "with open(par_file, 'w') as outfile:\n",
    "    json.dump(parameters, outfile)\n"
   ]
  },
  {
   "cell_type": "markdown",
   "metadata": {},
   "source": []
  }
 ],
 "metadata": {
  "kernelspec": {
   "display_name": "Python 3.9.13 64-bit",
   "language": "python",
   "name": "python3"
  },
  "language_info": {
   "codemirror_mode": {
    "name": "ipython",
    "version": 3
   },
   "file_extension": ".py",
   "mimetype": "text/x-python",
   "name": "python",
   "nbconvert_exporter": "python",
   "pygments_lexer": "ipython3",
   "version": "3.9.13"
  },
  "orig_nbformat": 4,
  "vscode": {
   "interpreter": {
    "hash": "b0fa6594d8f4cbf19f97940f81e996739fb7646882a419484c72d19e05852a7e"
   }
  }
 },
 "nbformat": 4,
 "nbformat_minor": 2
}
