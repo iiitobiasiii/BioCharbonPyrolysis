{
 "cells": [
  {
   "cell_type": "code",
   "execution_count": 1,
   "id": "e4176a69-2629-4534-aed8-8382992977cf",
   "metadata": {},
   "outputs": [],
   "source": [
    "import numpy as np\n",
    "import matplotlib.pyplot as plt"
   ]
  },
  {
   "cell_type": "markdown",
   "id": "75005123-2b52-46da-8567-bb2d38337d69",
   "metadata": {},
   "source": [
    "Physical constants"
   ]
  },
  {
   "cell_type": "code",
   "execution_count": 2,
   "id": "32d10e6d-ab6f-4b65-82b4-2edbefef7540",
   "metadata": {},
   "outputs": [],
   "source": [
    "# lower heating values of gas components\n",
    "lhv = {'CO' : 2.7,\n",
    "      'H2' : 33.3,\n",
    "      'CH4' : 131.9}# kWh/kg\n",
    "\n",
    "# vacuum permittivity\n",
    "epsilon_0 = 8.854 * 1E-12 # A * s / (V * m)\n"
   ]
  },
  {
   "cell_type": "markdown",
   "id": "2599d926-01a5-47c4-8577-5b82541a68dc",
   "metadata": {},
   "source": [
    "input material or biomass /sawdust properties"
   ]
  },
  {
   "cell_type": "code",
   "execution_count": 27,
   "id": "c712010f-6fe2-4525-9f0d-ab80d017a500",
   "metadata": {},
   "outputs": [],
   "source": [
    "# wood specific density\n",
    "rho_spec_wood = 1500 # kg/m^3\n",
    "\n",
    "# sawdust specific density\n",
    "rho_mass = {'sawdust' :250,\n",
    "           'water': 1000} #kg/m^3\n",
    "\n",
    "# specific heat sawdust\n",
    "c_p = {'sawdust' :900,\n",
    "      'water' : 4184} # J /(kg K)\n",
    "\n",
    "# dielectric loss \n",
    "epsilon_r_loss = {'sawdust' : 20,\n",
    "                 'water' : 5.1} # dimensionless"
   ]
  },
  {
   "cell_type": "markdown",
   "id": "68f4ed2a-36f8-4b50-b139-99c22e15a18a",
   "metadata": {},
   "source": [
    "Microwave oven and experimental setup specifications"
   ]
  },
  {
   "cell_type": "code",
   "execution_count": 4,
   "id": "fdfecc99-e0f9-463b-ae57-0d44554d325b",
   "metadata": {},
   "outputs": [],
   "source": [
    "f = 2.45 * 1E9 # 1/s\n",
    "omega = 2 * np.pi * f # 1/s\n",
    "E = 2000 #V/m\n",
    "\n",
    "# microwave dimensions\n",
    "V_microwave = 0.3 * 0.2 * 0.2 # m^3\n",
    "power_microwave = 700 #W\n",
    "power_input_el = 1050 #W\n",
    "\n",
    "# tube volume\n",
    "L_tube = 0.3\n",
    "d_tube = 0.1\n",
    "A_tube = np.pi * (d_tube/2)**2\n",
    "V_tube = L_tube * A_tube #m^3"
   ]
  },
  {
   "cell_type": "markdown",
   "id": "631ebd2b-68b9-4887-b0c6-8c8b802052fe",
   "metadata": {},
   "source": [
    "Further assumptions"
   ]
  },
  {
   "cell_type": "code",
   "execution_count": 28,
   "id": "189b044b-911f-42e0-b7ac-e556f8839be0",
   "metadata": {},
   "outputs": [],
   "source": [
    "load = 'water'"
   ]
  },
  {
   "cell_type": "code",
   "execution_count": 5,
   "id": "fafcf055-d6db-461b-907e-8c13a1d699c7",
   "metadata": {},
   "outputs": [],
   "source": [
    "#heat up from 20 to 500 °C\n",
    "T_diff = 1000 # K"
   ]
  },
  {
   "cell_type": "code",
   "execution_count": 6,
   "id": "58f7eabf-7c19-4616-99c3-32c28c4697e4",
   "metadata": {},
   "outputs": [],
   "source": [
    "\n",
    "# output mass ratios\n",
    "mass_ratio_gas = 0.5 #1 \n",
    "mass_ratio_oil = 0.25\n",
    "mass_ratio_char = 0.25\n",
    "\n",
    "# gas output, mass ratios\n",
    "\n",
    "mass_ratio_gas_output = {'CO' : 0.3,\n",
    "      'H2' : 0.22,\n",
    "      'CH4' : 0.2}\n",
    " #kWh/kg\n",
    "\n",
    "# efficiency for electrical power from gas combustion\n",
    "eta = 0.28 # ??? Carnot * chp_el\n",
    "\n",
    "# efficiencies\n",
    "#eta_chp_th = 0.62\n",
    "#eta_carnot = 0.33\n",
    "#eta_chp_el = 0.28"
   ]
  },
  {
   "cell_type": "code",
   "execution_count": 7,
   "id": "31b5b873-2455-4cc8-bc6d-dfbbd4adbdd7",
   "metadata": {},
   "outputs": [],
   "source": [
    "assert np.sum(list(mass_ratio_gas_output.values())) <= 1\n",
    "\n",
    "lhv_gas = np.sum([lhv[component] * mass_ratio_gas_output[component] for component in mass_ratio_gas_output.keys()])\n"
   ]
  },
  {
   "cell_type": "markdown",
   "id": "97ad1ebe-108d-443e-b910-16fee8f06551",
   "metadata": {},
   "source": [
    "The power loss density in $W/m^3$ is\n",
    "\n",
    "$ P/V = \\epsilon_0 \\cdot \\epsilon_r^{\\prime \\prime} \\cdot \\omega \\cdot E^2$"
   ]
  },
  {
   "cell_type": "code",
   "execution_count": 8,
   "id": "8488c170-0899-4f78-bbe2-69bae90558b9",
   "metadata": {},
   "outputs": [],
   "source": [
    "P_dielectric_heating = epsilon_0 * epsilon_r_loss[load] * omega * E**2 "
   ]
  },
  {
   "cell_type": "code",
   "execution_count": 9,
   "id": "bcce5667-e6ff-426d-9f69-28fde3e43b14",
   "metadata": {},
   "outputs": [
    {
     "data": {
      "text/plain": [
       "25691.33034597008"
      ]
     },
     "execution_count": 9,
     "metadata": {},
     "output_type": "execute_result"
    }
   ],
   "source": [
    "P_dielectric_heating * V_tube"
   ]
  },
  {
   "cell_type": "code",
   "execution_count": 18,
   "id": "b6375c2b-3615-47f8-8b6b-8d4423c216f1",
   "metadata": {},
   "outputs": [],
   "source": [
    "power_density_microwave = power_microwave / V_microwave"
   ]
  },
  {
   "cell_type": "markdown",
   "id": "102900fc-f0c9-4fa1-a1cc-ffb3693b9fae",
   "metadata": {},
   "source": [
    "Heating rate $\\tau = \\frac{P}{\\rho \\cdot c_p}$, heating time $t_h = \\Delta T / \\tau$"
   ]
  },
  {
   "cell_type": "code",
   "execution_count": 19,
   "id": "c112fce4-cc14-4c4d-80e5-4612811320ce",
   "metadata": {},
   "outputs": [],
   "source": []
  },
  {
   "cell_type": "code",
   "execution_count": 20,
   "id": "17da82d9-21dc-483e-9c19-713b9a510ee2",
   "metadata": {},
   "outputs": [],
   "source": [
    "# heat_rate in K/s\n",
    "heat_rate = power_density_microwave / (rho_mass[load] * c_p[load])\n",
    "\n",
    "# heating time in t\n",
    "t_heat = T_diff / heat_rate\n",
    "\n",
    "# biomass mass velocity in kg / s\n",
    "biomass_flow = V_tube * rho_mass[load] / t_heat\n"
   ]
  },
  {
   "cell_type": "code",
   "execution_count": 21,
   "id": "0304d566-bead-4b16-9d9c-2b7a923f0039",
   "metadata": {},
   "outputs": [],
   "source": [
    "# gas production rate in kg/s\n",
    "gas_flow = biomass_flow * mass_ratio_gas # kg/s\n",
    "\n",
    "# q_flux_chp_th = eta_chp_th * lhv_gas * gas_flux * 3600 # kW \n",
    "\n",
    "# power production\n",
    "power_output_el = eta * lhv_gas * gas_flow * 3600 # kW \n"
   ]
  },
  {
   "cell_type": "code",
   "execution_count": 22,
   "id": "99d6ba94-c9fe-4892-a228-104f1dc722b9",
   "metadata": {},
   "outputs": [
    {
     "data": {
      "text/plain": [
       "3.2850066585696326e-05"
      ]
     },
     "execution_count": 22,
     "metadata": {},
     "output_type": "execute_result"
    }
   ],
   "source": [
    "biomass_flow"
   ]
  },
  {
   "cell_type": "code",
   "execution_count": 26,
   "id": "435c5c9e-1f72-4546-b1ca-1c42d04f797d",
   "metadata": {},
   "outputs": [
    {
     "name": "stdout",
     "output_type": "stream",
     "text": [
      "Output-Input Power Ratio: 0.00, \n",
      "Output Power: 0.57W, \n",
      "Heating time 71725.7s,\n",
      "Heatrate 1.39e-02s, \n",
      "Gas flow: 1.64e-05 kg/s\n"
     ]
    }
   ],
   "source": [
    "print(f'Output-Input Power Ratio: {power_output_el/power_input_el:.2f}, \\nOutput Power: {power_output_el:.2f}W, \\nHeating time {t_heat:.1f}s,\\nHeatrate {heat_rate:.2e}s, \\nGas flow: {gas_flow:.2e} kg/s')"
   ]
  },
  {
   "cell_type": "code",
   "execution_count": null,
   "id": "0fd51d5d-4d50-4494-8566-e526c5547c63",
   "metadata": {},
   "outputs": [],
   "source": []
  },
  {
   "cell_type": "code",
   "execution_count": null,
   "id": "e19c1b59-ed8f-457d-830d-8bfa4da664b1",
   "metadata": {},
   "outputs": [],
   "source": []
  },
  {
   "cell_type": "code",
   "execution_count": null,
   "id": "e0c20644-a07b-47e5-a919-dccc9a088c29",
   "metadata": {},
   "outputs": [],
   "source": []
  }
 ],
 "metadata": {
  "kernelspec": {
   "display_name": "aikernel",
   "language": "python",
   "name": "aikernel"
  },
  "language_info": {
   "codemirror_mode": {
    "name": "ipython",
    "version": 3
   },
   "file_extension": ".py",
   "mimetype": "text/x-python",
   "name": "python",
   "nbconvert_exporter": "python",
   "pygments_lexer": "ipython3",
   "version": "3.10.4"
  }
 },
 "nbformat": 4,
 "nbformat_minor": 5
}
