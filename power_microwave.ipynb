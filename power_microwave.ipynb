{
 "cells": [
  {
   "cell_type": "code",
   "execution_count": 1,
   "id": "e4176a69-2629-4534-aed8-8382992977cf",
   "metadata": {},
   "outputs": [],
   "source": [
    "import numpy as np\n",
    "import matplotlib.pyplot as plt"
   ]
  },
  {
   "cell_type": "markdown",
   "id": "75005123-2b52-46da-8567-bb2d38337d69",
   "metadata": {},
   "source": [
    "Physical constants"
   ]
  },
  {
   "cell_type": "code",
   "execution_count": 2,
   "id": "32d10e6d-ab6f-4b65-82b4-2edbefef7540",
   "metadata": {},
   "outputs": [],
   "source": [
    "# lower heating values of gas components\n",
    "lhv = {'CO' : 2.7,\n",
    "      'H2' : 33.3,\n",
    "      'CH4' : 131.9}# kWh/kg\n",
    "\n",
    "# vacuum permittivity\n",
    "epsilon_0 = 8.854 * 1E-12 # A * s / (V * m)\n"
   ]
  },
  {
   "cell_type": "markdown",
   "id": "2599d926-01a5-47c4-8577-5b82541a68dc",
   "metadata": {},
   "source": [
    "input material or biomass /sawdust properties"
   ]
  },
  {
   "cell_type": "code",
   "execution_count": 3,
   "id": "c712010f-6fe2-4525-9f0d-ab80d017a500",
   "metadata": {},
   "outputs": [],
   "source": [
    "# wood specific density\n",
    "rho_spec_wood = 1500 # kg/m^3\n",
    "\n",
    "# sawdust specific density\n",
    "rho_mass = 250 #kg/m^3\n",
    "\n",
    "# specific heat sawdust\n",
    "c_p = 900 #900 # J /(kg K)\n",
    "\n",
    "# dielectric loss \n",
    "epsilon_r_loss = 20 # dimensionless"
   ]
  },
  {
   "cell_type": "markdown",
   "id": "68f4ed2a-36f8-4b50-b139-99c22e15a18a",
   "metadata": {},
   "source": [
    "Microwave oven and experimental setup specifications"
   ]
  },
  {
   "cell_type": "code",
   "execution_count": 4,
   "id": "fdfecc99-e0f9-463b-ae57-0d44554d325b",
   "metadata": {},
   "outputs": [],
   "source": [
    "f = 2.45 * 1E9 # 1/s\n",
    "omega = 2 * np.pi * f # 1/s\n",
    "E = 2000 #V/m\n",
    "\n",
    "# tube volume\n",
    "L_tube = 0.3\n",
    "d_tube = 0.1\n",
    "A_tube = np.pi * (d_tube/2)**2\n",
    "V_tube = L_tube * A_tube #m^3"
   ]
  },
  {
   "cell_type": "markdown",
   "id": "631ebd2b-68b9-4887-b0c6-8c8b802052fe",
   "metadata": {},
   "source": [
    "Further assumptions"
   ]
  },
  {
   "cell_type": "code",
   "execution_count": 5,
   "id": "fafcf055-d6db-461b-907e-8c13a1d699c7",
   "metadata": {},
   "outputs": [],
   "source": [
    "#heat up from 20 to 500 °C\n",
    "T_diff = 480 # K"
   ]
  },
  {
   "cell_type": "code",
   "execution_count": 6,
   "id": "58f7eabf-7c19-4616-99c3-32c28c4697e4",
   "metadata": {},
   "outputs": [],
   "source": [
    "\n",
    "# output mass ratios\n",
    "mass_ratio_gas = 0.5 \n",
    "mass_ratio_oil = 0.25\n",
    "mass_ratio_char = 0.25\n",
    "\n",
    "# gas output, mass ratios\n",
    "\n",
    "mass_ratio_gas_output = {'CO' : 0.3,\n",
    "      'H2' : 0.22,\n",
    "      'CH4' : 0.2}\n",
    " #kWh/kg\n",
    "\n",
    "# efficiency for electrical power from gas combustion\n",
    "eta = 0.33 * 0.28 # ??? Carnot * chp_el\n",
    "\n",
    "# efficiencies\n",
    "#eta_chp_th = 0.62\n",
    "#eta_carnot = 0.33\n",
    "#eta_chp_el = 0.28"
   ]
  },
  {
   "cell_type": "code",
   "execution_count": 7,
   "id": "31b5b873-2455-4cc8-bc6d-dfbbd4adbdd7",
   "metadata": {},
   "outputs": [],
   "source": [
    "assert np.sum(list(mass_ratio_gas_output.values())) <= 1\n",
    "\n",
    "lhv_gas = np.sum([lhv[component] * mass_ratio_gas_output[component] for component in mass_ratio_gas_output.keys()])\n"
   ]
  },
  {
   "cell_type": "markdown",
   "id": "97ad1ebe-108d-443e-b910-16fee8f06551",
   "metadata": {},
   "source": [
    "The power loss density in $W/m^3$ is\n",
    "\n",
    "$ P = \\epsilon_0 \\cdot \\epsilon_r^{\\prime \\prime} \\cdot \\omega \\cdot E^2$"
   ]
  },
  {
   "cell_type": "code",
   "execution_count": 8,
   "id": "8488c170-0899-4f78-bbe2-69bae90558b9",
   "metadata": {},
   "outputs": [],
   "source": [
    "P_dielectric_heating = epsilon_0 * epsilon_r_loss * omega * E**2"
   ]
  },
  {
   "cell_type": "markdown",
   "id": "86c59f14-f87c-4320-86f6-c5f4b7d1e7b9",
   "metadata": {},
   "source": [
    "heating rate"
   ]
  },
  {
   "cell_type": "markdown",
   "id": "102900fc-f0c9-4fa1-a1cc-ffb3693b9fae",
   "metadata": {},
   "source": [
    "Heating rate $\\tau = \\frac{P}{\\rho \\cdot c_p}$, heating time "
   ]
  },
  {
   "cell_type": "code",
   "execution_count": 9,
   "id": "17da82d9-21dc-483e-9c19-713b9a510ee2",
   "metadata": {},
   "outputs": [],
   "source": [
    "# heat_rate in K/s\n",
    "heat_rate = P_dielectric_heating / (rho_mass * c_p)\n",
    "\n",
    "# heating time in t\n",
    "t_heat = T_diff / heat_rate\n",
    "\n",
    "# biomass mass velocity in kg / s\n",
    "biomass_flow = V_tube * rho_mass / t_heat\n"
   ]
  },
  {
   "cell_type": "code",
   "execution_count": 10,
   "id": "0304d566-bead-4b16-9d9c-2b7a923f0039",
   "metadata": {},
   "outputs": [
    {
     "ename": "NameError",
     "evalue": "name 'mass_flow' is not defined",
     "output_type": "error",
     "traceback": [
      "\u001b[0;31m---------------------------------------------------------------------------\u001b[0m",
      "\u001b[0;31mNameError\u001b[0m                                 Traceback (most recent call last)",
      "Input \u001b[0;32mIn [10]\u001b[0m, in \u001b[0;36m<cell line: 2>\u001b[0;34m()\u001b[0m\n\u001b[1;32m      1\u001b[0m \u001b[38;5;66;03m# gas production rate in kg/s\u001b[39;00m\n\u001b[0;32m----> 2\u001b[0m gas_flow \u001b[38;5;241m=\u001b[39m \u001b[43mmass_flow\u001b[49m \u001b[38;5;241m*\u001b[39m mass_ratio_gas \u001b[38;5;66;03m# kg/s\u001b[39;00m\n\u001b[1;32m      4\u001b[0m \u001b[38;5;66;03m# q_flux_chp_th = eta_chp_th * lhv_gas * gas_flux * 3600 # kW \u001b[39;00m\n\u001b[1;32m      5\u001b[0m \n\u001b[1;32m      6\u001b[0m \u001b[38;5;66;03m# power production\u001b[39;00m\n\u001b[1;32m      7\u001b[0m power_output_el \u001b[38;5;241m=\u001b[39m eta \u001b[38;5;241m*\u001b[39m lhv_gas \u001b[38;5;241m*\u001b[39m gas_flow \u001b[38;5;241m*\u001b[39m \u001b[38;5;241m3600\u001b[39m\n",
      "\u001b[0;31mNameError\u001b[0m: name 'mass_flow' is not defined"
     ]
    }
   ],
   "source": [
    "# gas production rate in kg/s\n",
    "gas_flow = mass_flow * mass_ratio_gas # kg/s\n",
    "\n",
    "# q_flux_chp_th = eta_chp_th * lhv_gas * gas_flux * 3600 # kW \n",
    "\n",
    "# power production\n",
    "power_output_el = eta * lhv_gas * gas_flow * 3600 # kW \n"
   ]
  },
  {
   "cell_type": "code",
   "execution_count": null,
   "id": "435c5c9e-1f72-4546-b1ca-1c42d04f797d",
   "metadata": {},
   "outputs": [],
   "source": [
    "power_output_el"
   ]
  }
 ],
 "metadata": {
  "kernelspec": {
   "display_name": "aikernel",
   "language": "python",
   "name": "aikernel"
  },
  "language_info": {
   "codemirror_mode": {
    "name": "ipython",
    "version": 3
   },
   "file_extension": ".py",
   "mimetype": "text/x-python",
   "name": "python",
   "nbconvert_exporter": "python",
   "pygments_lexer": "ipython3",
   "version": "3.10.4"
  }
 },
 "nbformat": 4,
 "nbformat_minor": 5
}
