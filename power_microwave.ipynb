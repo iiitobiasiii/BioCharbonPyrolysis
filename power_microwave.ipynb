{
 "cells": [
  {
   "cell_type": "code",
   "execution_count": 2,
   "id": "e4176a69-2629-4534-aed8-8382992977cf",
   "metadata": {},
   "outputs": [],
   "source": [
    "import numpy as np\n",
    "import matplotlib.pyplot as plt"
   ]
  },
  {
   "cell_type": "code",
   "execution_count": 53,
   "id": "58f7eabf-7c19-4616-99c3-32c28c4697e4",
   "metadata": {},
   "outputs": [],
   "source": [
    "biomass_flux = 0.1 # kg/s\n",
    "power_input_microwave = 800 # W\n",
    "\n",
    "# output mass ratios\n",
    "mass_ratio_gas = 0.5 \n",
    "mass_ratio_oil = 0.25\n",
    "mass_ratio_char = 0.25\n",
    "\n",
    "# gas output, lower heating values and mass ratios\n",
    "lhv_co = 2.7 # kWh/kg\n",
    "lhv_h2 = 33.3 # kWh/kg\n",
    "lhv_ch4 = 13.9 # kWh/kg\n",
    "mass_ratio_co = 0.3\n",
    "mass_ratio_h2 = 0.22\n",
    "mass_ratio_ch4 = 0.2\n",
    "\n",
    "lhv_gas = lhv_co * mass_ratio_ch4 + lhv_h2 * mass_ratio_h2 + lhv_ch4 * mass_ratio_ch4 #kWh/kg\n",
    "\n",
    "\n",
    "# efficiencies\n",
    "eta_chp_th = 0.62\n",
    "eta_canot = 0.33\n",
    "eta_chp_el = 0.28"
   ]
  },
  {
   "cell_type": "code",
   "execution_count": 3,
   "id": "52dba5b1-87b1-41b8-8dc2-8be157fd4dee",
   "metadata": {},
   "outputs": [],
   "source": [
    "# wood specific density\n",
    "rho_spec_wood = 1500 # kg/m^3\n",
    "\n",
    "# radiation exposure time\n",
    "t_exp = 30 # s\n",
    "\n",
    "# threshold power density radiation field\n",
    "epsilon_field = 5 * 1E8 # W/m^3\n",
    "\n",
    "# specimen volume kg/s * s * m^3/kg\n",
    "v_specimen = biomass_flux * t_exp / rho_spec_wood #m^3\n",
    "\n",
    "# power of radiation field\n",
    "p_rad = v_specimen * epsilon_field"
   ]
  },
  {
   "cell_type": "code",
   "execution_count": 4,
   "id": "b559f8c2-c818-4d41-86a9-822fba6be7fc",
   "metadata": {},
   "outputs": [
    {
     "data": {
      "text/plain": [
       "0.002"
      ]
     },
     "execution_count": 4,
     "metadata": {},
     "output_type": "execute_result"
    }
   ],
   "source": [
    "v_specimen"
   ]
  },
  {
   "cell_type": "code",
   "execution_count": 5,
   "id": "7ba9fd07-0e63-43f7-b323-96ebed984e93",
   "metadata": {},
   "outputs": [
    {
     "data": {
      "text/plain": [
       "1000000.0"
      ]
     },
     "execution_count": 5,
     "metadata": {},
     "output_type": "execute_result"
    }
   ],
   "source": [
    "p_rad"
   ]
  },
  {
   "cell_type": "code",
   "execution_count": 55,
   "id": "0304d566-bead-4b16-9d9c-2b7a923f0039",
   "metadata": {},
   "outputs": [],
   "source": [
    "def power_output_el(biomass_flux,\n",
    "                    power_input_microwave,\n",
    "                    mass_ratio_gas,\n",
    "                    mass_ratio_oil,\n",
    "                    mass_ratio_char,\n",
    "                    lhv_gas,\n",
    "                    eta_chp_th,\n",
    "                    eta_canot,\n",
    "                    eta_chp_el):\n",
    "    gas_flux = biomass_flux * mass_ratio_gas # kg/s\n",
    "    q_flux_chp_th = eta_chp_th * lhv_gas * gas_flux * 3600 # kW \n",
    "    p_chp_el = eta_chp_el * lhv_gas * gas_flux * 3600 # kW \n",
    "\n",
    "    power_output_el = eta_canot * p_chp_el # kW\n",
    "    return power_output_el"
   ]
  },
  {
   "cell_type": "code",
   "execution_count": null,
   "id": "fb8d0a7e-e60f-4bdc-b84c-a81939e6649f",
   "metadata": {},
   "outputs": [],
   "source": [
    "# Assuming\n",
    "omega = 2.45 * 1E9 # Hz\n",
    "V_specimen = 0.05 * 0.05 * 0.05 # m^3\n",
    "V_chamber = 0.3 * 0.2 * 0.3 # m^3\n"
   ]
  },
  {
   "cell_type": "code",
   "execution_count": 34,
   "id": "4146bcaf-2a99-4c77-ac9a-2e0efeeb810d",
   "metadata": {},
   "outputs": [],
   "source": [
    "# dielectric heating power density\n",
    "epsilon_0 = 8.854 * 1E-12 # A * s / (V * m)\n",
    "epsilon_r = 20 # dimensionless\n",
    "f = 2.45 * 1E9 # 1/s\n",
    "omega = 2 * np.pi * f # 1/s\n",
    "E = 2000 #V/m\n",
    "\n",
    "P_dielectric_heating = epsilon_0 * epsilon_r * omega * E**2"
   ]
  },
  {
   "cell_type": "code",
   "execution_count": 47,
   "id": "41aeadb0-3108-4e4f-b145-3ce4793fbeb7",
   "metadata": {},
   "outputs": [],
   "source": [
    "# specific heat sawdust\n",
    "c_p = 900 #900 # J /(kg K)\n",
    "\n",
    "#heat up from 20 to 500 °C\n",
    "T_diff = 480 # K\n",
    "\n",
    "# tube volume\n",
    "L_tube = 0.3\n",
    "d_tube = 0.1\n",
    "A_tube = np.pi * (d_tube/2)**2\n",
    "V_tube = L_tube * A_tube #m^3\n",
    "\n",
    "# sawdust density\n",
    "rho_mass = 250 #kg/m^3\n",
    "\n",
    "# heat_rate in K/s\n",
    "heat_rate = P_dielectric_heating / (rho_mass * c_p)\n",
    "# falsch: t_heating = (c_p * rho_mass * V_tube * T_diff)/P_dielectric_heating"
   ]
  },
  {
   "cell_type": "code",
   "execution_count": 48,
   "id": "e3ca7f36-22e8-4c46-97b8-f4561e571ae1",
   "metadata": {},
   "outputs": [],
   "source": [
    "t_heat = T_diff / heat_rate"
   ]
  },
  {
   "cell_type": "code",
   "execution_count": 49,
   "id": "953684ee-4347-47ba-8cf4-1e209f011ee5",
   "metadata": {},
   "outputs": [],
   "source": [
    "v_mass = L_tube / t_heat"
   ]
  },
  {
   "cell_type": "code",
   "execution_count": 50,
   "id": "dbdb3af7-5df9-4f4b-a26e-f0734dfd3eb4",
   "metadata": {},
   "outputs": [],
   "source": [
    "volume_flow = V_tube / t_heat"
   ]
  },
  {
   "cell_type": "code",
   "execution_count": 51,
   "id": "4254f13a-7662-4b15-a7e8-2471526e4b73",
   "metadata": {},
   "outputs": [],
   "source": [
    "mass_flow = volume_flow * rho_mass"
   ]
  },
  {
   "cell_type": "code",
   "execution_count": 52,
   "id": "7689fc97-8039-4191-962e-cbbdec477082",
   "metadata": {},
   "outputs": [
    {
     "data": {
      "text/plain": [
       "0.05947067209715296"
      ]
     },
     "execution_count": 52,
     "metadata": {},
     "output_type": "execute_result"
    }
   ],
   "source": [
    "mass_flow"
   ]
  },
  {
   "cell_type": "code",
   "execution_count": 56,
   "id": "4008c097-2bf9-46c8-9f23-53891945e29f",
   "metadata": {},
   "outputs": [
    {
     "data": {
      "text/plain": [
       "105.30131260233104"
      ]
     },
     "execution_count": 56,
     "metadata": {},
     "output_type": "execute_result"
    }
   ],
   "source": [
    "power_output_el(mass_flow,\n",
    "                power_input_microwave,\n",
    "                    mass_ratio_gas,\n",
    "                    mass_ratio_oil,\n",
    "                    mass_ratio_char,\n",
    "                    lhv_gas,\n",
    "                    eta_chp_th,\n",
    "                    eta_canot,\n",
    "                    eta_chp_el)"
   ]
  },
  {
   "cell_type": "code",
   "execution_count": null,
   "id": "e77a3302-b035-4b2e-a176-f39752323aed",
   "metadata": {},
   "outputs": [],
   "source": []
  }
 ],
 "metadata": {
  "kernelspec": {
   "display_name": "aikernel",
   "language": "python",
   "name": "aikernel"
  },
  "language_info": {
   "codemirror_mode": {
    "name": "ipython",
    "version": 3
   },
   "file_extension": ".py",
   "mimetype": "text/x-python",
   "name": "python",
   "nbconvert_exporter": "python",
   "pygments_lexer": "ipython3",
   "version": "3.10.4"
  }
 },
 "nbformat": 4,
 "nbformat_minor": 5
}
