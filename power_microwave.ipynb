{
 "cells": [
  {
   "cell_type": "code",
   "execution_count": null,
   "id": "e4176a69-2629-4534-aed8-8382992977cf",
   "metadata": {},
   "outputs": [],
   "source": [
    "import numpy as np\n",
    "import matplotlib.pyplot as plt"
   ]
  },
  {
   "cell_type": "code",
   "execution_count": null,
   "id": "58f7eabf-7c19-4616-99c3-32c28c4697e4",
   "metadata": {},
   "outputs": [],
   "source": [
    "biomass_flux = 0.1 # kg/s\n",
    "power_input_microwave = 800 # W\n",
    "\n",
    "# output mass ratios\n",
    "mass_ratio_gas = 0.5 \n",
    "mass_ratio_oil = 0.25\n",
    "mass_ratio_char = 0.25\n",
    "\n",
    "# gas output, lower heating values and mass ratios\n",
    "lhv_co = 2.7 # kWh/kg\n",
    "lhv_h2 = 33.3 # kWh/kg\n",
    "lhv_ch4 = 13.9 # kWh/kg\n",
    "mass_ratio_co = 0.3\n",
    "mass_ratio_h2 = 0.22\n",
    "mass_ratio_ch4 = 0.2\n",
    "\n",
    "lhv_gas = lhv_co * mass_ratio_ch4 + lhv_h2 * mass_ratio_h2 + lhv_ch4 * mass_ratio_ch4 #kWh/kg\n",
    "\n",
    "\n",
    "# efficiencies\n",
    "eta_chp_th = 0.62\n",
    "eta_canot = 0.33\n",
    "eta_chp_el = 0.28"
   ]
  },
  {
   "cell_type": "code",
   "execution_count": null,
   "id": "52dba5b1-87b1-41b8-8dc2-8be157fd4dee",
   "metadata": {},
   "outputs": [],
   "source": [
    "# wood specific density\n",
    "rho_spec_wood = 1500 # kg/m^3\n",
    "\n",
    "# radiation exposure time\n",
    "t_exp = 30 # s\n",
    "\n",
    "# threshold power density radiation field\n",
    "epsilon_field = 5 * 1E8 # W/m^3\n",
    "\n",
    "# specimen volume kg/s * s * m^3/kg\n",
    "v_specimen = biomass_flux * t_exp / rho_spec_wood #m^3\n",
    "\n",
    "# power of radiation field\n",
    "p_rad = v_specimen * epsilon_field"
   ]
  },
  {
   "cell_type": "code",
   "execution_count": null,
   "id": "b559f8c2-c818-4d41-86a9-822fba6be7fc",
   "metadata": {},
   "outputs": [],
   "source": [
    "v_specimen"
   ]
  },
  {
   "cell_type": "code",
   "execution_count": null,
   "id": "7ba9fd07-0e63-43f7-b323-96ebed984e93",
   "metadata": {},
   "outputs": [],
   "source": [
    "p_rad"
   ]
  },
  {
   "cell_type": "code",
   "execution_count": null,
   "id": "0304d566-bead-4b16-9d9c-2b7a923f0039",
   "metadata": {},
   "outputs": [],
   "source": [
    "def power_output_el(power_input_microwave,\n",
    "                    mass_ratio_gas,\n",
    "                    mass_ratio_oil,\n",
    "                    mass_ratio_char,\n",
    "                    lhv_gas,\n",
    "                    eta_chp_th,\n",
    "                    eta_canot,\n",
    "                    eta_chp_el):\n",
    "    gas_flux = biomass_flux * mass_ratio_gas # kg/s\n",
    "    q_flux_chp_th = eta_chp_th * lhv_gas * gas_flux * 3600 # kW \n",
    "    p_chp_el = eta_chp_el * lhv_gas * gas_flux * 3600 # kW \n",
    "\n",
    "    power_output_el = eta_canot * p_chp_el # kW\n",
    "    return power_output_el"
   ]
  },
  {
   "cell_type": "code",
   "execution_count": null,
   "id": "2507888c-cf57-4894-b620-7c1efd4dcef3",
   "metadata": {},
   "outputs": [],
   "source": [
    "power_out = power_output_el(power_input_microwave,\n",
    "                    mass_ratio_gas,\n",
    "                    mass_ratio_oil,\n",
    "                    mass_ratio_char,\n",
    "                    lhv_gas,\n",
    "                    eta_chp_th,\n",
    "                    eta_canot,\n",
    "                    eta_chp_el)\n",
    "print(power_out)"
   ]
  },
  {
   "cell_type": "markdown",
   "id": "4d6de369-a215-4496-97cd-a52883a7186e",
   "metadata": {},
   "source": [
    "playing around with lhv gas value"
   ]
  },
  {
   "cell_type": "code",
   "execution_count": null,
   "id": "d2f7e4a6-12c6-4b5e-91ea-95a452ae43f5",
   "metadata": {},
   "outputs": [],
   "source": [
    "lhv_gas_arr = np.linspace(5, 33.3, num=50)\n",
    "fig, ax = plt.subplots()\n",
    "\n",
    "ax.axhline(power_input_microwave, color='red', label=r'$P_{in}$')\n",
    "ax.axvline(lhv_gas, color='black', label=r'LHV fix')\n",
    "ax.plot(lhv_gas_arr, power_output_el(power_input_microwave,\n",
    "                    mass_ratio_gas,\n",
    "                    mass_ratio_oil,\n",
    "                    mass_ratio_char,\n",
    "                    lhv_gas_arr,\n",
    "                    eta_chp_th,\n",
    "                    eta_canot,\n",
    "                    eta_chp_el),\n",
    "       color='blue',\n",
    "       label=r'$P_{out}$')\n",
    "ax.set_ylabel('Power in W')\n",
    "ax.set_xlabel('lhv_gas')\n",
    "fig.legend(loc=7)\n",
    "plt.show()"
   ]
  },
  {
   "cell_type": "code",
   "execution_count": null,
   "id": "fb8d0a7e-e60f-4bdc-b84c-a81939e6649f",
   "metadata": {},
   "outputs": [],
   "source": []
  }
 ],
 "metadata": {
  "kernelspec": {
   "display_name": "aikernel",
   "language": "python",
   "name": "aikernel"
  },
  "language_info": {
   "codemirror_mode": {
    "name": "ipython",
    "version": 3
   },
   "file_extension": ".py",
   "mimetype": "text/x-python",
   "name": "python",
   "nbconvert_exporter": "python",
   "pygments_lexer": "ipython3",
   "version": "3.10.4"
  }
 },
 "nbformat": 4,
 "nbformat_minor": 5
}
