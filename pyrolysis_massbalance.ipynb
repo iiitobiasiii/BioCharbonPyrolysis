{
 "cells": [
  {
   "cell_type": "code",
   "execution_count": 63,
   "metadata": {},
   "outputs": [],
   "source": [
    "biomass_flux = 0.1 # kg/s\n",
    "observation_period = 365* 24 * 60 * 60 # seconds\n",
    "pyrolysis_type = 'conv_woodsawdust@520degC_40degC/min' # select pyr\n",
    "\n",
    "# Output mass ratios depend on many different parameters and control setting. \n",
    "# In this first approach we use mass ratios from literature: \n",
    "mass_ratios = {'fast_pyrolysis' : {'gas': 0.5 , 'oil': 0.25, 'char': 0.25},\n",
    "               'slow_pyrolysis' : {'gas': 0   , 'oil': 0   , 'char': 1.0},\n",
    "               'pine@500degC':   {'gas': 0.12, 'oil': 0.55, 'char': 0.33}, # https://www.researchgate.net/publication/236999893_Emergy_synthesis_of_a_pyrolysis_process\n",
    "               # https://eprints.whiterose.ac.uk/80749/1/AS%20RE-SUBMITTED-MARCH%202014.pdf\n",
    "               'conv_woodsawdust@520degC_5degC/min': {\n",
    "                    'gas' : 0.2061, 'oil': 0.5394, 'char': 0.2545},\n",
    "               'conv_woodsawdust@520degC_20degC/min': {\n",
    "                    'gas' : 0.1879, 'oil': 0.5909, 'char': 0.2212},\n",
    "               'conv_woodsawdust@520degC_40degC/min': {\n",
    "                    'gas' : 0.2061, 'oil': 0.5818, 'char': 0.2121},\n",
    "               'conv_woodsawdust@350degC_20degC/min': {\n",
    "                    'gas' : 0.1485, 'oil': 0.4667, 'char': 0.3848},\n",
    "               'conv_woodsawdust@310degC_20degC/min': {\n",
    "                    'gas' :  0.861, 'oil': 0.3152, 'char': 0.5970},\n",
    "               'microwave_woodsawdust@200degC_600W': {\n",
    "                    'gas' :  0.839, 'oil': 0.4323, 'char': 0.4839},\n",
    "               'microwave_woodsawdust@200degC_900W': {\n",
    "                    'gas' :  0.903, 'oil': 0.4581, 'char': 0.4516},\n",
    "               'microwave_woodsawdust@200degC_1200W': {\n",
    "                    'gas' :  0.968, 'oil': 0.4710, 'char': 0.4323},\n",
    "               }\n",
    "\n",
    "gas_flux = biomass_flux * mass_ratios[pyrolysis_type]['gas']\n",
    "oil_flux = biomass_flux * mass_ratios[pyrolysis_type]['oil']\n",
    "char_flux = biomass_flux * mass_ratios[pyrolysis_type]['char']\n",
    "\n",
    "gas_mass = gas_flux * observation_period\n",
    "oil_mass = oil_flux * observation_period\n",
    "char_mass = char_flux * observation_period"
   ]
  },
  {
   "cell_type": "code",
   "execution_count": 64,
   "metadata": {},
   "outputs": [
    {
     "data": {
      "image/png": "[encoded data removed]",
      "text/plain": [
       "<Figure size 432x288 with 1 Axes>"
      ]
     },
     "metadata": {},
     "output_type": "display_data"
    }
   ],
   "source": [
    "import matplotlib.pyplot as plt\n",
    "from matplotlib.sankey import Sankey\n",
    "\n",
    "Sankey(flows=[biomass_flux, -gas_flux, -oil_flux, -char_flux],\n",
    "       labels=['biomass', 'gas', 'oil', 'char'],\n",
    "       orientations=[0, 1, 0, -1]).finish()\n",
    "plt.title(f\"Massflows [kg/s]\\n {pyrolysis_type}\");"
   ]
  }
 ],
 "metadata": {
  "kernelspec": {
   "display_name": "Python 3.9.13 64-bit",
   "language": "python",
   "name": "python3"
  },
  "language_info": {
   "codemirror_mode": {
    "name": "ipython",
    "version": 3
   },
   "file_extension": ".py",
   "mimetype": "text/x-python",
   "name": "python",
   "nbconvert_exporter": "python",
   "pygments_lexer": "ipython3",
   "version": "3.9.13"
  },
  "orig_nbformat": 4,
  "vscode": {
   "interpreter": {
    "hash": "b0fa6594d8f4cbf19f97940f81e996739fb7646882a419484c72d19e05852a7e"
   }
  }
 },
 "nbformat": 4,
 "nbformat_minor": 2
}
